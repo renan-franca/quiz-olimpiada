{
  "nbformat": 4,
  "nbformat_minor": 0,
  "metadata": {
    "colab": {
      "name": "Pensamento Computacional - Olimpíadas - Renan - Vinicius - Amanda.ipynb",
      "provenance": []
    },
    "kernelspec": {
      "display_name": "Python 3",
      "name": "python3"
    },
    "language_info": {
      "name": "python"
    }
  },
  "cells": [
    {
      "cell_type": "code",
      "metadata": {
        "colab": {
          "background_save": true,
          "base_uri": "https://localhost:8080/"
        },
        "id": "uYgUdZK-rUmQ",
        "outputId": "d6ec9cd9-1819-4524-f331-90c0e9a3d7be"
      },
      "source": [
        "print (\"Quiz das Olimpíadas\")\n",
        "nome = input(\"Qual é o seu nome? \")\n",
        "print (\"Bem-vindo(a), \" + nome +\"!\")\n",
        "\n",
        "afirmacao = input(\"Se deseja começar, digite sim \")\n",
        "if afirmacao == \"sim\":\n",
        "  print (\"Vamos começar!\")\n",
        "\n",
        "somatorio = 0\n",
        "print (\"1 - Quantas medalhas de ouro o Brasil ganhou na Rio-2016?\")\n",
        "print (\"a) 5\")\n",
        "print (\"b) 6\")\n",
        "print (\"c) 7\")\n",
        "print (\"d) 8\")\n",
        "\n",
        "resposta_correta1 = input(\"Qual é a alternativa correta? \")\n",
        "if resposta_correta1 == \"c\":\n",
        "  print (\"Acertou!\")\n",
        "  somatorio = somatorio + 1\n",
        "else:\n",
        "  print (\"Errou! Tente na próxima!\")\n",
        "\n",
        "print (\"2 - Qual dos atletas abaixo possui mais medalhas olímpicas?\")\n",
        "print (\"a) Serginho (Vôlei)\")\n",
        "print (\"b) Torben Grael (Vela)\")\n",
        "print (\"c) Giba (Vôlei)\")\n",
        "print (\"d) Rodrigo Pessoa (Hipismo)\")\n",
        "\n",
        "resposta_correta2 = input(\"Qual é a alternativa correta? \")\n",
        "if resposta_correta2 == \"b\":\n",
        "  print (\"Acertou!\")\n",
        "  somatorio = somatorio + 1\n",
        "else:\n",
        "  print (\"Errou! Tente se recuperar na próxima!\")\n",
        "\n",
        "\n",
        "print (\"3 - Qual atleta era o maior vencedor de medalhas de ouro em uma única edição antes de Michael Phelps? \")\n",
        "print (\"a) Mark Spitz (natação)\")\n",
        "print (\"b) Usain Bolt (atletismo)\")\n",
        "print (\"c) Nadia Comaneci (ginástica)\")\n",
        "print (\"d) Matt Biondi (natação)\")\n",
        "\n",
        "resposta_correta3 = input(\"Qual é a alternativa correta?\")\n",
        "if resposta_correta3 == \"a\":\n",
        "  print (\"Acertou!\")\n",
        "  somatorio = somatorio + 1\n",
        "else:\n",
        "  print (\"Que pena! Tente melhorar na próxima!\")\n",
        "\n",
        "print (\"4 - Em qual edição dos Jogos estreou o Rugby de 7? \")\n",
        "print (\"a) 2008\")\n",
        "print (\"b) 2012\")\n",
        "print (\"c) 2016\")\n",
        "print (\"d) 2020\")\n",
        "\n",
        "resposta_correta4 = input(\"Qual é a alternativa correta?\")\n",
        "if resposta_correta4 == \"c\":\n",
        "  print (\"Acertou!\")\n",
        "  somatorio = somatorio + 1\n",
        "else:\n",
        "  print (\"Não... Boa sorte na próxima!\")\n",
        "\n",
        "print (\"5 - Em qual edição dos Jogos foi a estreia do vôlei de praia?\")\n",
        "print (\"a) 1996\")\n",
        "print (\"b) 2000\")\n",
        "print (\"c) 2004\")\n",
        "print (\"d) 2008\")\n",
        "\n",
        "resposta_correta5 = input(\"Qual é a alternativa correta? \")\n",
        "if resposta_correta5 == \"a\":\n",
        "  print (\"Acertou!\")\n",
        "  somatorio = somatorio + 1\n",
        "else:\n",
        "  print (\"Errou!\")\n",
        "\n",
        "if somatorio == 5:\n",
        "  print (\"Resultado: Parabéns, você gabaritou! Acertou 5 de 5!\")\n",
        "else:\n",
        "  print (f\"Valeu por participar. O seu resultado foi {somatorio} de 5!\")"
      ],
      "execution_count": null,
      "outputs": [
        {
          "name": "stdout",
          "output_type": "stream",
          "text": [
            "Quiz das Olimpíadas\n"
          ]
        }
      ]
    }
  ]
}